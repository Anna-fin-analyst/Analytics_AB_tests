{
 "cells": [
  {
   "cell_type": "markdown",
   "metadata": {},
   "source": [
    "# Задача\n",
    "\n",
    "Имеются результаты A/B теста, в котором двум группам пользователей предлагались различные наборы акционных предложений. Известно, что ARPU в тестовой группе выше на 5%, чем в контрольной. При этом в контрольной группе 1928 игроков из 202103 оказались платящими, а в тестовой – 1805 из 202667.\n",
    "\n",
    "Какой набор предложений можно считать лучшим? Какие метрики стоит проанализировать для принятия правильного решения и как?"
   ]
  },
  {
   "cell_type": "markdown",
   "metadata": {},
   "source": [
    "# 1. Загрузка необходимых библиотек"
   ]
  },
  {
   "cell_type": "code",
   "execution_count": 1,
   "metadata": {},
   "outputs": [],
   "source": [
    "import pandas as pd\n",
    "import numpy as np\n",
    "from scipy import stats\n",
    "%matplotlib inline\n",
    "import matplotlib.pyplot as plt\n",
    "import statsmodels.api as sm\n",
    "import seaborn as sns\n",
    "\n",
    "# игнорируем замечания по поводу необновленного пакета\n",
    "import warnings\n",
    "warnings.filterwarnings('ignore')"
   ]
  },
  {
   "cell_type": "markdown",
   "metadata": {},
   "source": [
    "# 2. Загрузка и проверка данных"
   ]
  },
  {
   "cell_type": "code",
   "execution_count": 2,
   "metadata": {
    "scrolled": true
   },
   "outputs": [],
   "source": [
    "df = pd.read_csv('~/AB_tests.csv', sep=';')"
   ]
  },
  {
   "cell_type": "code",
   "execution_count": 3,
   "metadata": {},
   "outputs": [
    {
     "data": {
      "text/html": [
       "<div>\n",
       "<style scoped>\n",
       "    .dataframe tbody tr th:only-of-type {\n",
       "        vertical-align: middle;\n",
       "    }\n",
       "\n",
       "    .dataframe tbody tr th {\n",
       "        vertical-align: top;\n",
       "    }\n",
       "\n",
       "    .dataframe thead th {\n",
       "        text-align: right;\n",
       "    }\n",
       "</style>\n",
       "<table border=\"1\" class=\"dataframe\">\n",
       "  <thead>\n",
       "    <tr style=\"text-align: right;\">\n",
       "      <th></th>\n",
       "      <th>user_id</th>\n",
       "      <th>revenue</th>\n",
       "      <th>testgroup</th>\n",
       "    </tr>\n",
       "  </thead>\n",
       "  <tbody>\n",
       "    <tr>\n",
       "      <th>404767</th>\n",
       "      <td>404768</td>\n",
       "      <td>231</td>\n",
       "      <td>a</td>\n",
       "    </tr>\n",
       "    <tr>\n",
       "      <th>404768</th>\n",
       "      <td>404769</td>\n",
       "      <td>0</td>\n",
       "      <td>a</td>\n",
       "    </tr>\n",
       "    <tr>\n",
       "      <th>404769</th>\n",
       "      <td>404770</td>\n",
       "      <td>0</td>\n",
       "      <td>b</td>\n",
       "    </tr>\n",
       "  </tbody>\n",
       "</table>\n",
       "</div>"
      ],
      "text/plain": [
       "        user_id  revenue testgroup\n",
       "404767   404768      231         a\n",
       "404768   404769        0         a\n",
       "404769   404770        0         b"
      ]
     },
     "execution_count": 3,
     "metadata": {},
     "output_type": "execute_result"
    }
   ],
   "source": [
    "df.tail(3)"
   ]
  },
  {
   "cell_type": "code",
   "execution_count": 4,
   "metadata": {},
   "outputs": [
    {
     "name": "stdout",
     "output_type": "stream",
     "text": [
      "<class 'pandas.core.frame.DataFrame'>\n",
      "RangeIndex: 404770 entries, 0 to 404769\n",
      "Data columns (total 3 columns):\n",
      " #   Column     Non-Null Count   Dtype \n",
      "---  ------     --------------   ----- \n",
      " 0   user_id    404770 non-null  int64 \n",
      " 1   revenue    404770 non-null  int64 \n",
      " 2   testgroup  404770 non-null  object\n",
      "dtypes: int64(2), object(1)\n",
      "memory usage: 9.3+ MB\n"
     ]
    }
   ],
   "source": [
    "# Проверяем количество строк в датафрейме, пустые значения, типы данных\n",
    "df.info()"
   ]
  },
  {
   "cell_type": "code",
   "execution_count": 5,
   "metadata": {},
   "outputs": [
    {
     "data": {
      "text/plain": [
       "404770"
      ]
     },
     "execution_count": 5,
     "metadata": {},
     "output_type": "execute_result"
    }
   ],
   "source": [
    "# Проверка количества уникальных user_id (совпадает с количеством строк в датасете)\n",
    "\n",
    "df.user_id.nunique()"
   ]
  },
  {
   "cell_type": "code",
   "execution_count": 6,
   "metadata": {},
   "outputs": [
    {
     "data": {
      "text/html": [
       "<div>\n",
       "<style scoped>\n",
       "    .dataframe tbody tr th:only-of-type {\n",
       "        vertical-align: middle;\n",
       "    }\n",
       "\n",
       "    .dataframe tbody tr th {\n",
       "        vertical-align: top;\n",
       "    }\n",
       "\n",
       "    .dataframe thead th {\n",
       "        text-align: right;\n",
       "    }\n",
       "</style>\n",
       "<table border=\"1\" class=\"dataframe\">\n",
       "  <thead>\n",
       "    <tr style=\"text-align: right;\">\n",
       "      <th></th>\n",
       "      <th>user_id</th>\n",
       "      <th>revenue</th>\n",
       "      <th>testgroup</th>\n",
       "    </tr>\n",
       "  </thead>\n",
       "  <tbody>\n",
       "    <tr>\n",
       "      <th>404768</th>\n",
       "      <td>404769</td>\n",
       "      <td>0</td>\n",
       "      <td>control</td>\n",
       "    </tr>\n",
       "    <tr>\n",
       "      <th>404769</th>\n",
       "      <td>404770</td>\n",
       "      <td>0</td>\n",
       "      <td>test</td>\n",
       "    </tr>\n",
       "  </tbody>\n",
       "</table>\n",
       "</div>"
      ],
      "text/plain": [
       "        user_id  revenue testgroup\n",
       "404768   404769        0   control\n",
       "404769   404770        0      test"
      ]
     },
     "execution_count": 6,
     "metadata": {},
     "output_type": "execute_result"
    }
   ],
   "source": [
    "# Переименуем наименования групп для удобства (на контрольную и тестовую)\n",
    "\n",
    "dict = {'b': 'test', 'a': 'control'}\n",
    "df = (df.assign(testgroup=lambda x: x['testgroup'].replace(dict)))\n",
    "df.tail(2)"
   ]
  },
  {
   "cell_type": "markdown",
   "metadata": {},
   "source": [
    "# 3. Расчет метрик"
   ]
  },
  {
   "cell_type": "code",
   "execution_count": 7,
   "metadata": {},
   "outputs": [
    {
     "data": {
      "text/html": [
       "<div>\n",
       "<style scoped>\n",
       "    .dataframe tbody tr th:only-of-type {\n",
       "        vertical-align: middle;\n",
       "    }\n",
       "\n",
       "    .dataframe tbody tr th {\n",
       "        vertical-align: top;\n",
       "    }\n",
       "\n",
       "    .dataframe thead th {\n",
       "        text-align: right;\n",
       "    }\n",
       "</style>\n",
       "<table border=\"1\" class=\"dataframe\">\n",
       "  <thead>\n",
       "    <tr style=\"text-align: right;\">\n",
       "      <th></th>\n",
       "      <th>testgroup</th>\n",
       "      <th>users</th>\n",
       "      <th>revenue</th>\n",
       "    </tr>\n",
       "  </thead>\n",
       "  <tbody>\n",
       "    <tr>\n",
       "      <th>0</th>\n",
       "      <td>control</td>\n",
       "      <td>202103</td>\n",
       "      <td>5136189</td>\n",
       "    </tr>\n",
       "    <tr>\n",
       "      <th>1</th>\n",
       "      <td>test</td>\n",
       "      <td>202667</td>\n",
       "      <td>5421603</td>\n",
       "    </tr>\n",
       "  </tbody>\n",
       "</table>\n",
       "</div>"
      ],
      "text/plain": [
       "  testgroup   users  revenue\n",
       "0   control  202103  5136189\n",
       "1      test  202667  5421603"
      ]
     },
     "execution_count": 7,
     "metadata": {},
     "output_type": "execute_result"
    }
   ],
   "source": [
    "# Проверим количество уникальных пользователей и выручку по ним в каждой группе\n",
    "\n",
    "all_users = df.groupby('testgroup')\\\n",
    "              .agg({'user_id': 'nunique', 'revenue': 'sum'})\\\n",
    "              .rename(columns={'user_id': 'users'})\\\n",
    "              .reset_index()\n",
    "all_users"
   ]
  },
  {
   "cell_type": "code",
   "execution_count": 8,
   "metadata": {},
   "outputs": [
    {
     "data": {
      "text/html": [
       "<div>\n",
       "<style scoped>\n",
       "    .dataframe tbody tr th:only-of-type {\n",
       "        vertical-align: middle;\n",
       "    }\n",
       "\n",
       "    .dataframe tbody tr th {\n",
       "        vertical-align: top;\n",
       "    }\n",
       "\n",
       "    .dataframe thead th {\n",
       "        text-align: right;\n",
       "    }\n",
       "</style>\n",
       "<table border=\"1\" class=\"dataframe\">\n",
       "  <thead>\n",
       "    <tr style=\"text-align: right;\">\n",
       "      <th></th>\n",
       "      <th>testgroup</th>\n",
       "      <th>users</th>\n",
       "      <th>revenue</th>\n",
       "      <th>ARPU</th>\n",
       "    </tr>\n",
       "  </thead>\n",
       "  <tbody>\n",
       "    <tr>\n",
       "      <th>0</th>\n",
       "      <td>control</td>\n",
       "      <td>202103</td>\n",
       "      <td>5136189</td>\n",
       "      <td>25.41</td>\n",
       "    </tr>\n",
       "    <tr>\n",
       "      <th>1</th>\n",
       "      <td>test</td>\n",
       "      <td>202667</td>\n",
       "      <td>5421603</td>\n",
       "      <td>26.75</td>\n",
       "    </tr>\n",
       "  </tbody>\n",
       "</table>\n",
       "</div>"
      ],
      "text/plain": [
       "  testgroup   users  revenue   ARPU\n",
       "0   control  202103  5136189  25.41\n",
       "1      test  202667  5421603  26.75"
      ]
     },
     "execution_count": 8,
     "metadata": {},
     "output_type": "execute_result"
    }
   ],
   "source": [
    "# Посчитаем ARPU для каждой группы\n",
    "\n",
    "all_users['ARPU'] = (all_users['revenue'] / all_users['users']).round(2)\n",
    "all_users\n",
    "# Видим, что в группе test средний чек на пользователя больше"
   ]
  },
  {
   "cell_type": "code",
   "execution_count": 9,
   "metadata": {},
   "outputs": [
    {
     "data": {
      "text/html": [
       "<div>\n",
       "<style scoped>\n",
       "    .dataframe tbody tr th:only-of-type {\n",
       "        vertical-align: middle;\n",
       "    }\n",
       "\n",
       "    .dataframe tbody tr th {\n",
       "        vertical-align: top;\n",
       "    }\n",
       "\n",
       "    .dataframe thead th {\n",
       "        text-align: right;\n",
       "    }\n",
       "</style>\n",
       "<table border=\"1\" class=\"dataframe\">\n",
       "  <thead>\n",
       "    <tr style=\"text-align: right;\">\n",
       "      <th></th>\n",
       "      <th>testgroup</th>\n",
       "      <th>pay_users</th>\n",
       "    </tr>\n",
       "  </thead>\n",
       "  <tbody>\n",
       "    <tr>\n",
       "      <th>0</th>\n",
       "      <td>control</td>\n",
       "      <td>1928</td>\n",
       "    </tr>\n",
       "    <tr>\n",
       "      <th>1</th>\n",
       "      <td>test</td>\n",
       "      <td>1805</td>\n",
       "    </tr>\n",
       "  </tbody>\n",
       "</table>\n",
       "</div>"
      ],
      "text/plain": [
       "  testgroup  pay_users\n",
       "0   control       1928\n",
       "1      test       1805"
      ]
     },
     "execution_count": 9,
     "metadata": {},
     "output_type": "execute_result"
    }
   ],
   "source": [
    "# Посчитаем количество платящих пользователей в каждой группе\n",
    "\n",
    "pay_users = df.query('revenue!=0')\\\n",
    "              .groupby('testgroup')\\\n",
    "              .agg({'user_id': 'nunique'})\\\n",
    "              .rename(columns={'user_id': 'pay_users'})\\\n",
    "              .reset_index()\n",
    "pay_users"
   ]
  },
  {
   "cell_type": "code",
   "execution_count": 10,
   "metadata": {},
   "outputs": [
    {
     "data": {
      "text/html": [
       "<div>\n",
       "<style scoped>\n",
       "    .dataframe tbody tr th:only-of-type {\n",
       "        vertical-align: middle;\n",
       "    }\n",
       "\n",
       "    .dataframe tbody tr th {\n",
       "        vertical-align: top;\n",
       "    }\n",
       "\n",
       "    .dataframe thead th {\n",
       "        text-align: right;\n",
       "    }\n",
       "</style>\n",
       "<table border=\"1\" class=\"dataframe\">\n",
       "  <thead>\n",
       "    <tr style=\"text-align: right;\">\n",
       "      <th></th>\n",
       "      <th>testgroup</th>\n",
       "      <th>share_pay_users</th>\n",
       "    </tr>\n",
       "  </thead>\n",
       "  <tbody>\n",
       "    <tr>\n",
       "      <th>0</th>\n",
       "      <td>control</td>\n",
       "      <td>0.009540</td>\n",
       "    </tr>\n",
       "    <tr>\n",
       "      <th>1</th>\n",
       "      <td>test</td>\n",
       "      <td>0.008906</td>\n",
       "    </tr>\n",
       "  </tbody>\n",
       "</table>\n",
       "</div>"
      ],
      "text/plain": [
       "  testgroup  share_pay_users\n",
       "0   control         0.009540\n",
       "1      test         0.008906"
      ]
     },
     "execution_count": 10,
     "metadata": {},
     "output_type": "execute_result"
    }
   ],
   "source": [
    "# Посчитаем долю платящих пользователей среди всех пользователей по группам\n",
    "\n",
    "Share_pay_users = ((df.query('revenue!=0').groupby('testgroup').agg({'user_id': 'nunique'})) / \n",
    "                   (df.groupby('testgroup').agg({'user_id': 'nunique'})))\\\n",
    "                                           .rename(columns={'user_id': 'share_pay_users'})\\\n",
    "                                           .reset_index()\n",
    "Share_pay_users"
   ]
  },
  {
   "cell_type": "code",
   "execution_count": 11,
   "metadata": {
    "scrolled": true
   },
   "outputs": [
    {
     "data": {
      "text/html": [
       "<div>\n",
       "<style scoped>\n",
       "    .dataframe tbody tr th:only-of-type {\n",
       "        vertical-align: middle;\n",
       "    }\n",
       "\n",
       "    .dataframe tbody tr th {\n",
       "        vertical-align: top;\n",
       "    }\n",
       "\n",
       "    .dataframe thead th {\n",
       "        text-align: right;\n",
       "    }\n",
       "</style>\n",
       "<table border=\"1\" class=\"dataframe\">\n",
       "  <thead>\n",
       "    <tr style=\"text-align: right;\">\n",
       "      <th></th>\n",
       "      <th>testgroup</th>\n",
       "      <th>users</th>\n",
       "      <th>revenue</th>\n",
       "      <th>ARPU</th>\n",
       "      <th>pay_users</th>\n",
       "      <th>share_pay_users</th>\n",
       "    </tr>\n",
       "  </thead>\n",
       "  <tbody>\n",
       "    <tr>\n",
       "      <th>0</th>\n",
       "      <td>control</td>\n",
       "      <td>202103</td>\n",
       "      <td>5136189</td>\n",
       "      <td>25.41</td>\n",
       "      <td>1928</td>\n",
       "      <td>0.009540</td>\n",
       "    </tr>\n",
       "    <tr>\n",
       "      <th>1</th>\n",
       "      <td>test</td>\n",
       "      <td>202667</td>\n",
       "      <td>5421603</td>\n",
       "      <td>26.75</td>\n",
       "      <td>1805</td>\n",
       "      <td>0.008906</td>\n",
       "    </tr>\n",
       "  </tbody>\n",
       "</table>\n",
       "</div>"
      ],
      "text/plain": [
       "  testgroup   users  revenue   ARPU  pay_users  share_pay_users\n",
       "0   control  202103  5136189  25.41       1928         0.009540\n",
       "1      test  202667  5421603  26.75       1805         0.008906"
      ]
     },
     "execution_count": 11,
     "metadata": {},
     "output_type": "execute_result"
    }
   ],
   "source": [
    "# Объединим полученную информацию с рассчитанными метриками в одну таблицу\n",
    "\n",
    "all_users = all_users.merge(pay_users, on='testgroup').merge(Share_pay_users, on='testgroup')\n",
    "all_users"
   ]
  },
  {
   "cell_type": "code",
   "execution_count": 12,
   "metadata": {},
   "outputs": [
    {
     "data": {
      "text/html": [
       "<div>\n",
       "<style scoped>\n",
       "    .dataframe tbody tr th:only-of-type {\n",
       "        vertical-align: middle;\n",
       "    }\n",
       "\n",
       "    .dataframe tbody tr th {\n",
       "        vertical-align: top;\n",
       "    }\n",
       "\n",
       "    .dataframe thead th {\n",
       "        text-align: right;\n",
       "    }\n",
       "</style>\n",
       "<table border=\"1\" class=\"dataframe\">\n",
       "  <thead>\n",
       "    <tr style=\"text-align: right;\">\n",
       "      <th></th>\n",
       "      <th>testgroup</th>\n",
       "      <th>users</th>\n",
       "      <th>revenue</th>\n",
       "      <th>ARPU</th>\n",
       "      <th>pay_users</th>\n",
       "      <th>share_pay_users</th>\n",
       "      <th>ARPPU</th>\n",
       "    </tr>\n",
       "  </thead>\n",
       "  <tbody>\n",
       "    <tr>\n",
       "      <th>0</th>\n",
       "      <td>control</td>\n",
       "      <td>202103</td>\n",
       "      <td>5136189</td>\n",
       "      <td>25.41</td>\n",
       "      <td>1928</td>\n",
       "      <td>0.009540</td>\n",
       "      <td>2664.00</td>\n",
       "    </tr>\n",
       "    <tr>\n",
       "      <th>1</th>\n",
       "      <td>test</td>\n",
       "      <td>202667</td>\n",
       "      <td>5421603</td>\n",
       "      <td>26.75</td>\n",
       "      <td>1805</td>\n",
       "      <td>0.008906</td>\n",
       "      <td>3003.66</td>\n",
       "    </tr>\n",
       "  </tbody>\n",
       "</table>\n",
       "</div>"
      ],
      "text/plain": [
       "  testgroup   users  revenue   ARPU  pay_users  share_pay_users    ARPPU\n",
       "0   control  202103  5136189  25.41       1928         0.009540  2664.00\n",
       "1      test  202667  5421603  26.75       1805         0.008906  3003.66"
      ]
     },
     "execution_count": 12,
     "metadata": {},
     "output_type": "execute_result"
    }
   ],
   "source": [
    "# Проверим ARPPU для каждой группы\n",
    "\n",
    "all_users['ARPPU'] = (all_users['revenue'] / all_users['pay_users']).round(2)\n",
    "all_users\n",
    "# Видим, что в группе test средний чек на платящего пользователя больше"
   ]
  },
  {
   "cell_type": "markdown",
   "metadata": {},
   "source": [
    "Поскольку группы поделены не поровну, мы можем сравнивать относительные показатели, а не абсолютные.\n",
    "\n",
    "Для принятия правильного решения относительно лучшего набора предложений стоит проанализировать следующие метрики:\n",
    "   1. ARPU — выручка, которую мы в среднем получили с пользователя для каждой группы. \n",
    "    Мы хотели бы понять, повлияли ли на изменение среднего чека пользователя различные наборы акционных предложений. \n",
    "    Мы увидели, что средний чек в тестовой группе выше, чем в контрольной, нужно выяснить: является ли этот результат стат. значимым.\n",
    "   2. ARPPU - средний доход исключительно от каждого платящего клиента.\n",
    "    Мы хотели бы понять, как изменились суммы среднего чека платящих клиентов в группах в зависимости от различных наборов акционных предложений. \n",
    "    Мы увидели, что в тестовой группе платящие клиенты тратят в среднем больше денег, нужно проверить, является ли этот результат стат. значимым.\n",
    "   3. Share_pay_users - доля платящих пользователей в каждой группе относительно всех входящих в группу пользователей (конверсия). \n",
    "    Мы хотели бы понять, повлияли ли наборы акционных предложений на решение пользователей приобретать платные услуги. \n",
    "    Мы увидели, что платящих пользователей в контролькой группе больше, чем в тестовой, необходимо понять, является ли это наблюдение стат.значимым.\n",
    "    "
   ]
  },
  {
   "cell_type": "markdown",
   "metadata": {},
   "source": [
    "# 4. Подготовка к проверке гипотез, выбор тестов, тестирование"
   ]
  },
  {
   "cell_type": "code",
   "execution_count": 13,
   "metadata": {},
   "outputs": [],
   "source": [
    "# Разделим датафрейм с выручкой по группам: тестовая группа и контрольная группа\n",
    "\n",
    "test = df.query('testgroup==\"test\"')\n",
    "control = df.query('testgroup==\"control\"')"
   ]
  },
  {
   "cell_type": "code",
   "execution_count": 14,
   "metadata": {},
   "outputs": [
    {
     "data": {
      "text/html": [
       "<div>\n",
       "<style scoped>\n",
       "    .dataframe tbody tr th:only-of-type {\n",
       "        vertical-align: middle;\n",
       "    }\n",
       "\n",
       "    .dataframe tbody tr th {\n",
       "        vertical-align: top;\n",
       "    }\n",
       "\n",
       "    .dataframe thead th {\n",
       "        text-align: right;\n",
       "    }\n",
       "</style>\n",
       "<table border=\"1\" class=\"dataframe\">\n",
       "  <thead>\n",
       "    <tr style=\"text-align: right;\">\n",
       "      <th></th>\n",
       "      <th>count</th>\n",
       "      <th>mean</th>\n",
       "      <th>std</th>\n",
       "      <th>min</th>\n",
       "      <th>25%</th>\n",
       "      <th>50%</th>\n",
       "      <th>75%</th>\n",
       "      <th>max</th>\n",
       "    </tr>\n",
       "  </thead>\n",
       "  <tbody>\n",
       "    <tr>\n",
       "      <th>user_id</th>\n",
       "      <td>202667.0</td>\n",
       "      <td>202215.564389</td>\n",
       "      <td>116891.926690</td>\n",
       "      <td>1.0</td>\n",
       "      <td>100855.5</td>\n",
       "      <td>201821.0</td>\n",
       "      <td>303602.5</td>\n",
       "      <td>404770.0</td>\n",
       "    </tr>\n",
       "    <tr>\n",
       "      <th>revenue</th>\n",
       "      <td>202667.0</td>\n",
       "      <td>26.751287</td>\n",
       "      <td>287.324162</td>\n",
       "      <td>0.0</td>\n",
       "      <td>0.0</td>\n",
       "      <td>0.0</td>\n",
       "      <td>0.0</td>\n",
       "      <td>4000.0</td>\n",
       "    </tr>\n",
       "  </tbody>\n",
       "</table>\n",
       "</div>"
      ],
      "text/plain": [
       "            count           mean            std  min       25%       50%  \\\n",
       "user_id  202667.0  202215.564389  116891.926690  1.0  100855.5  201821.0   \n",
       "revenue  202667.0      26.751287     287.324162  0.0       0.0       0.0   \n",
       "\n",
       "              75%       max  \n",
       "user_id  303602.5  404770.0  \n",
       "revenue       0.0    4000.0  "
      ]
     },
     "execution_count": 14,
     "metadata": {},
     "output_type": "execute_result"
    }
   ],
   "source": [
    "# Посмотрим на статистику двух получившихся датафреймов\n",
    "\n",
    "test.describe().T"
   ]
  },
  {
   "cell_type": "code",
   "execution_count": 15,
   "metadata": {},
   "outputs": [
    {
     "data": {
      "text/html": [
       "<div>\n",
       "<style scoped>\n",
       "    .dataframe tbody tr th:only-of-type {\n",
       "        vertical-align: middle;\n",
       "    }\n",
       "\n",
       "    .dataframe tbody tr th {\n",
       "        vertical-align: top;\n",
       "    }\n",
       "\n",
       "    .dataframe thead th {\n",
       "        text-align: right;\n",
       "    }\n",
       "</style>\n",
       "<table border=\"1\" class=\"dataframe\">\n",
       "  <thead>\n",
       "    <tr style=\"text-align: right;\">\n",
       "      <th></th>\n",
       "      <th>count</th>\n",
       "      <th>mean</th>\n",
       "      <th>std</th>\n",
       "      <th>min</th>\n",
       "      <th>25%</th>\n",
       "      <th>50%</th>\n",
       "      <th>75%</th>\n",
       "      <th>max</th>\n",
       "    </tr>\n",
       "  </thead>\n",
       "  <tbody>\n",
       "    <tr>\n",
       "      <th>user_id</th>\n",
       "      <td>202103.0</td>\n",
       "      <td>202555.909843</td>\n",
       "      <td>116802.329266</td>\n",
       "      <td>2.0</td>\n",
       "      <td>101502.5</td>\n",
       "      <td>202988.0</td>\n",
       "      <td>303559.0</td>\n",
       "      <td>404769.0</td>\n",
       "    </tr>\n",
       "    <tr>\n",
       "      <th>revenue</th>\n",
       "      <td>202103.0</td>\n",
       "      <td>25.413720</td>\n",
       "      <td>920.768137</td>\n",
       "      <td>0.0</td>\n",
       "      <td>0.0</td>\n",
       "      <td>0.0</td>\n",
       "      <td>0.0</td>\n",
       "      <td>37433.0</td>\n",
       "    </tr>\n",
       "  </tbody>\n",
       "</table>\n",
       "</div>"
      ],
      "text/plain": [
       "            count           mean            std  min       25%       50%  \\\n",
       "user_id  202103.0  202555.909843  116802.329266  2.0  101502.5  202988.0   \n",
       "revenue  202103.0      25.413720     920.768137  0.0       0.0       0.0   \n",
       "\n",
       "              75%       max  \n",
       "user_id  303559.0  404769.0  \n",
       "revenue       0.0   37433.0  "
      ]
     },
     "execution_count": 15,
     "metadata": {},
     "output_type": "execute_result"
    }
   ],
   "source": [
    "control.describe().T"
   ]
  },
  {
   "cell_type": "code",
   "execution_count": 16,
   "metadata": {},
   "outputs": [],
   "source": [
    "# Видим, что средний чек и количество игроков больше в тестовой группе, а максимальная сумма покупки и \n",
    "# разброс сумм больльше в контрольной группе"
   ]
  },
  {
   "cell_type": "markdown",
   "metadata": {},
   "source": [
    "# I. ARPU"
   ]
  },
  {
   "cell_type": "markdown",
   "metadata": {},
   "source": [
    "Ранее мы заметили, что средние значения выручки на пользователя (ARPU) больше в тестовой группе, чем в контрольной. \n",
    "Нам необходимо проверить, является ли различие в ARPU двух групп стат.значимым.\n",
    "\n",
    "Для выбора теста сначала проверим некоторые условия:\n",
    " - Независимость двух выборок\n",
    " - Нормальность распределения данных\n",
    " - Равенство дисперсий"
   ]
  },
  {
   "cell_type": "markdown",
   "metadata": {},
   "source": [
    "- Наши выборки независимы (значения user_id уникальны)\n",
    "- Проверим выборки на нормальность распределения с помошью гистограммы"
   ]
  },
  {
   "cell_type": "code",
   "execution_count": 17,
   "metadata": {
    "scrolled": false
   },
   "outputs": [
    {
     "data": {
      "image/png": "[encoded data removed]",
      "text/plain": [
       "<Figure size 1440x720 with 1 Axes>"
      ]
     },
     "metadata": {
      "needs_background": "light"
     },
     "output_type": "display_data"
    }
   ],
   "source": [
    "plt.figure(figsize=(20, 10))\n",
    "plt.hist((control.revenue), density=True, color='gray', bins=5, label='control')\n",
    "plt.hist((test.revenue), density=True, color='red', bins=5, label='test')\n",
    "plt.title('Revenue Distribution')\n",
    "plt.ylabel('Revenue Density')\n",
    "plt.xlabel('Revenue Variables')\n",
    "plt.legend()\n",
    "plt.show()"
   ]
  },
  {
   "cell_type": "markdown",
   "metadata": {},
   "source": [
    "Видно, что наборы данных не имеют нормального распределения.\n",
    "\n",
    "Так же, видим на графике, что разброс значений в контрольной группе больше, чем в тестовой, при этом в тестовой группе больше плотность распределения. Это говорит нам о том, что пользователи тестовой группы чаще тратили крупные суммы, чем клиенты контрольной группы, хотя, при этом, самих платящих пользователей больше в контрольной группе."
   ]
  },
  {
   "cell_type": "code",
   "execution_count": 18,
   "metadata": {},
   "outputs": [
    {
     "data": {
      "text/plain": [
       "ShapiroResult(statistic=0.008876502513885498, pvalue=0.0)"
      ]
     },
     "execution_count": 18,
     "metadata": {},
     "output_type": "execute_result"
    }
   ],
   "source": [
    "# Перепроверим нормальность распределения с помощью теста  Шапиро-Уилка\n",
    "# Нулевая гипотеза для теста Шапиро-Уилка: распределение выручки в контрольной группе соответствует нормальному\n",
    "\n",
    "stats.shapiro(control['revenue'])"
   ]
  },
  {
   "cell_type": "code",
   "execution_count": 19,
   "metadata": {},
   "outputs": [
    {
     "data": {
      "text/plain": [
       "ShapiroResult(statistic=0.06588172912597656, pvalue=0.0)"
      ]
     },
     "execution_count": 19,
     "metadata": {},
     "output_type": "execute_result"
    }
   ],
   "source": [
    "# H0: распределение выручки в тестовой группе соответствует нормальному\n",
    "\n",
    "stats.shapiro(test['revenue'])"
   ]
  },
  {
   "cell_type": "markdown",
   "metadata": {},
   "source": [
    "Поскольку pvalue в двух выборках меньше 0.05, мы отвергаем нулевую гипотезу и говорим о том, что распределение средних в каждой выборке отклоняется от нормального"
   ]
  },
  {
   "cell_type": "markdown",
   "metadata": {},
   "source": [
    "- Теперь проверим данные двух групп на равенство дисперсий\n",
    "\n",
    "Будем проверять с помощью теста Левена. Поскольку наши данные не следуют нормальному распределению (в этом мы убедились на предыдущем шаге), тест Левена предпочтительнее, чем тест Барлетта\n",
    " \n",
    " Гипотезы для теста Левена:\n",
    " \n",
    "         H 0 : Дисперсии выручки относительно среднего значения в двух группах равны\n",
    "         H 1 : Дисперсии свыручки относительно среднего значения в двух группах отличаются"
   ]
  },
  {
   "cell_type": "code",
   "execution_count": 20,
   "metadata": {},
   "outputs": [
    {
     "data": {
      "text/plain": [
       "LeveneResult(statistic=1.57736044973474, pvalue=0.2091420343022563)"
      ]
     },
     "execution_count": 20,
     "metadata": {},
     "output_type": "execute_result"
    }
   ],
   "source": [
    "stats.levene(control['revenue'], test['revenue'], center='mean')"
   ]
  },
  {
   "cell_type": "markdown",
   "metadata": {},
   "source": [
    "Поскольку pvalue больше 0.05, мы не сможем отвергнуть нулевую гипотезу и принимаем, что дисперсии в двух группах для ARPU равны. \n",
    "\n",
    "В этом случае для сравнения средних в двух группах, несмотря на ненормальность распределения данных, мы сможем применить т-тест, поскольку имеем дело с большими выборками, у которых равны дисперсии."
   ]
  },
  {
   "cell_type": "markdown",
   "metadata": {},
   "source": [
    "- Тестирование гипотезы с помощью ttest\n",
    "\n",
    "Гипотезы для t-теста для двух выборок: \n",
    "\n",
    "    H 0 : Различия в ARPU в тестовой и контрольной группе не являются стат.значимыми.\n",
    "    H A : ARPU в тестовой и контрольной группе различаются статистически значимо."
   ]
  },
  {
   "cell_type": "code",
   "execution_count": 21,
   "metadata": {},
   "outputs": [
    {
     "data": {
      "text/plain": [
       "Ttest_indResult(statistic=-0.6242026493616787, pvalue=0.532494858971837)"
      ]
     },
     "execution_count": 21,
     "metadata": {},
     "output_type": "execute_result"
    }
   ],
   "source": [
    "stats.ttest_ind(control['revenue'], test['revenue'], equal_var=True)"
   ]
  },
  {
   "cell_type": "markdown",
   "metadata": {},
   "source": [
    "Мы получили pvalue больше 0.05, это значит, что мы не можем отклонить нулевую\n",
    "гипотезу о том, что различия ARPU двух групп не являются статистически значимыми. "
   ]
  },
  {
   "cell_type": "markdown",
   "metadata": {},
   "source": [
    "# II. ARPPU"
   ]
  },
  {
   "cell_type": "markdown",
   "metadata": {},
   "source": [
    "Ранее мы заметили, что средние значения выручки на платящего пользователя (ARPPU) больше в тестовой группе, чем в контрольной. \n",
    "Нам необходимо проверить, является ли различие в ARPPU двух групп стат.значимым.\n",
    "\n",
    "Для выбора теста сначала проверим некоторые условия:\n",
    " - Независимость двух выборок\n",
    " - Нормальность распределения данных\n",
    " - Равенство дисперсий"
   ]
  },
  {
   "cell_type": "markdown",
   "metadata": {},
   "source": [
    "- Наши выборки независимы (значения user_id уникальны)\n",
    "- Проверим выборки на нормальность распределения с помошью qqplot, который показывает, насколько выборочные значения хорошо соответствуют предсказанным значениям, если бы наше распределение было идеально нормальным"
   ]
  },
  {
   "cell_type": "code",
   "execution_count": 22,
   "metadata": {},
   "outputs": [
    {
     "data": {
      "image/png": "[encoded data removed]",
      "text/plain": [
       "<Figure size 432x288 with 1 Axes>"
      ]
     },
     "metadata": {
      "needs_background": "light"
     },
     "output_type": "display_data"
    },
    {
     "data": {
      "image/png": "[encoded data removed]",
      "text/plain": [
       "<Figure size 432x288 with 1 Axes>"
      ]
     },
     "metadata": {
      "needs_background": "light"
     },
     "output_type": "display_data"
    }
   ],
   "source": [
    "sm.qqplot((control.query('revenue>0').revenue), alpha=0.3, line='45', marker='.', fit=True)\n",
    "plt.title('Revenue-per-users Distribution Control')\n",
    "plt.show()\n",
    "\n",
    "sm.qqplot((test.query('revenue>0').revenue), alpha=0.3, line='45', marker='.', fit=True)\n",
    "plt.title('Revenue-per-users Distribution Test')\n",
    "plt.show()"
   ]
  },
  {
   "cell_type": "markdown",
   "metadata": {},
   "source": [
    "Видно, что оба набора данных не имеют нормального распределения. \n",
    "\n",
    "При этом, разброс значений в контрольной группе больше, чем в тестовой (это видно по тому, как много точек контрольной групы находятся далеко от средней линии)."
   ]
  },
  {
   "cell_type": "markdown",
   "metadata": {},
   "source": [
    "- Теперь проверим данные двух групп на равенство дисперсий\n",
    "\n",
    "Будем проверять с помощью теста Левена. Поскольку наши данные не следуют нормальному распределению (в этом мы убедились на предыдущем шаге), тест Левена предпочтительнее, чем тест Барлетта\n",
    " \n",
    " Гипотезы теста Левена:\n",
    " \n",
    "     H 0 : Дисперсии выручки от платящих пользователей в двух группах равны\n",
    "     H 1 : Дисперсии выручки от платящих пользователей в двух группах отличаются"
   ]
  },
  {
   "cell_type": "code",
   "execution_count": 23,
   "metadata": {},
   "outputs": [
    {
     "data": {
      "text/plain": [
       "LeveneResult(statistic=445.9869447066088, pvalue=1.3202514573715939e-93)"
      ]
     },
     "execution_count": 23,
     "metadata": {},
     "output_type": "execute_result"
    }
   ],
   "source": [
    "stats.levene((control.query('revenue>0').revenue), (test.query('revenue>0').revenue), center='mean')"
   ]
  },
  {
   "cell_type": "markdown",
   "metadata": {},
   "source": [
    "Поскольку pvalue меньше 0.05, мы сможем отвергнуть нулевую гипотезу о том, что дисперсии совокупности в двух группах для ARPPU равны. "
   ]
  },
  {
   "cell_type": "code",
   "execution_count": 24,
   "metadata": {},
   "outputs": [
    {
     "data": {
      "image/png": "[encoded data removed]",
      "text/plain": [
       "<Figure size 1152x288 with 1 Axes>"
      ]
     },
     "metadata": {
      "needs_background": "light"
     },
     "output_type": "display_data"
    },
    {
     "data": {
      "image/png": "[encoded data removed]",
      "text/plain": [
       "<Figure size 1152x288 with 1 Axes>"
      ]
     },
     "metadata": {
      "needs_background": "light"
     },
     "output_type": "display_data"
    }
   ],
   "source": [
    "# Еще раз посмотрим на распредления средних чеков платящих пользователей в двух группах\n",
    "\n",
    "fig, ax = plt.subplots(figsize=(16, 4))\n",
    "plt.title('Revenue-per-users Distribution Test')\n",
    "sns.boxplot(x = test.query('revenue>0').revenue);\n",
    "plt.show()\n",
    "\n",
    "fig, ax = plt.subplots(figsize=(16, 4))\n",
    "plt.title('Revenue-per-users Distribution Control')\n",
    "sns.boxplot(x = control.query('revenue>0').revenue);\n",
    "plt.show()"
   ]
  },
  {
   "cell_type": "code",
   "execution_count": 25,
   "metadata": {},
   "outputs": [
    {
     "data": {
      "text/plain": [
       "3022.0"
      ]
     },
     "execution_count": 25,
     "metadata": {},
     "output_type": "execute_result"
    }
   ],
   "source": [
    "# Поскольку выборки содержат выбросы, посмотрим на медианы в тестовой и контрольных группах\n",
    "\n",
    "test.query('revenue>0').revenue.median()"
   ]
  },
  {
   "cell_type": "code",
   "execution_count": 26,
   "metadata": {},
   "outputs": [
    {
     "data": {
      "text/plain": [
       "311.0"
      ]
     },
     "execution_count": 26,
     "metadata": {},
     "output_type": "execute_result"
    }
   ],
   "source": [
    "control.query('revenue>0').revenue.median()"
   ]
  },
  {
   "cell_type": "markdown",
   "metadata": {},
   "source": [
    "Видим, что медианы в двух группах сильно отличаются.\n",
    "\n",
    "Кроме того, мы можем видеть, что 123 клиента контрольной группы совершили крупные покупки на суммы более 37 000, что в совокупности принесло 89% всей выручки группы, при том, что это менее 1% всех клиентов группы и всего 6% от платящих пользователей группы. \n",
    "\n",
    "В то время, как 51% платящих пользователей тестовой группы совершили покупки на суммы от 3 000, что в совокупности составило 51% от всей выручки группы.\n",
    "\n",
    "Это наблюдение наталкивает на мысль, что сплитование групп проведено некорректно, т.к. все крупные клиенты собрались в контрольной группе, возможно, это оптовые клиенты, а в тестовой - розничные. "
   ]
  },
  {
   "cell_type": "code",
   "execution_count": 27,
   "metadata": {
    "scrolled": true
   },
   "outputs": [
    {
     "name": "stdout",
     "output_type": "stream",
     "text": [
      "922\n",
      "123\n"
     ]
    }
   ],
   "source": [
    "print(test.query('revenue>3000').user_id.count()) #test\n",
    "print(control.query('revenue>37000').user_id.count()) #control"
   ]
  },
  {
   "cell_type": "code",
   "execution_count": 28,
   "metadata": {},
   "outputs": [
    {
     "name": "stdout",
     "output_type": "stream",
     "text": [
      "0.5101812139324845\n",
      "0.8860655244579201\n"
     ]
    }
   ],
   "source": [
    "print(922*3000/5421603) #test\n",
    "print(123*37000/5136189) #control"
   ]
  },
  {
   "cell_type": "markdown",
   "metadata": {},
   "source": [
    " - При неравенстве дисперсий мы не сможем применить t-критерий Стьюдента для проверки гиспотезы про ARPPU. \n",
    " - В этом случае мы могли бы применить t-критерий Уэлча, который аналогичен независимому t-тесту для двух выборок, за исключением того, что он не предполагает, что две выборки, имеют одинаковую дисперсию. Однако, из-за появления выбросов в группах, происходит смещение среднего. В таком случае, есть риск, что t-критерий Уэлча, проведенный в данных, распределенных не нормально, сработает некорректно. \n",
    " - Поэтому проверим гипотезу о равенстве ARPPU в двух группах с помощью метода Bootstrap, используя в качестве статистики медиану, а не среднее."
   ]
  },
  {
   "cell_type": "markdown",
   "metadata": {},
   "source": [
    "Гипотезы для метода Bootstrap:\n",
    "    - H 0 : ARPPU в тестовой и контрольной группах не различаются статистически значимо.\n",
    "    - H A : ARPPU в тестовой и контрольной группе различаются статистически значимо."
   ]
  },
  {
   "cell_type": "code",
   "execution_count": 29,
   "metadata": {},
   "outputs": [],
   "source": [
    "''' Записываем в каждом результате нашей симуляции разницу между медианами\n",
    "Строим доверительный интервал для разницы, полученной при многократном повторении эксперимента'''\n",
    "\n",
    "median_diff = []\n",
    "\n",
    "for i in range(10000):\n",
    "    sample_data_test = (test.query('revenue>0')).sample(frac=1, replace=True)\n",
    "    sample_median_test = sample_data_test.revenue.median()\n",
    "    \n",
    "    \n",
    "    sample_data_control = (control.query('revenue>0')).sample(frac=1, replace=True)\n",
    "    sample_median_control = sample_data_control.revenue.median()\n",
    "    \n",
    "    sample_median_diff = sample_median_test - sample_median_control\n",
    "    median_diff.append(sample_median_diff)"
   ]
  },
  {
   "cell_type": "code",
   "execution_count": 30,
   "metadata": {},
   "outputs": [
    {
     "data": {
      "text/plain": [
       "2760.0"
      ]
     },
     "execution_count": 30,
     "metadata": {},
     "output_type": "execute_result"
    }
   ],
   "source": [
    "pd.Series(median_diff).quantile(0.975)"
   ]
  },
  {
   "cell_type": "code",
   "execution_count": 31,
   "metadata": {},
   "outputs": [
    {
     "data": {
      "text/plain": [
       "2657.9875"
      ]
     },
     "execution_count": 31,
     "metadata": {},
     "output_type": "execute_result"
    }
   ],
   "source": [
    "pd.Series(median_diff).quantile(0.025)"
   ]
  },
  {
   "cell_type": "code",
   "execution_count": 32,
   "metadata": {},
   "outputs": [
    {
     "data": {
      "text/plain": [
       "Text(0, 0.5, 'Distribution Density')"
      ]
     },
     "execution_count": 32,
     "metadata": {},
     "output_type": "execute_result"
    },
    {
     "data": {
      "image/png": "[encoded data removed]",
      "text/plain": [
       "<Figure size 432x288 with 1 Axes>"
      ]
     },
     "metadata": {
      "needs_background": "light"
     },
     "output_type": "display_data"
    }
   ],
   "source": [
    "# Визуализируем на графике доверительный интервал\n",
    "\n",
    "plt.hist(median_diff, bins=30, density=True)\n",
    "plt.axvline(pd.Series(median_diff).quantile(0.975), color='b')\n",
    "plt.axvline(pd.Series(median_diff).quantile(0.025), color='b')\n",
    "\n",
    "plt.xlabel('ARPPU')\n",
    "plt.ylabel('Distribution Density')"
   ]
  },
  {
   "cell_type": "markdown",
   "metadata": {},
   "source": [
    "Получаем, что разница медиан находится в диапазоне от 2658 до 2760, этот диапазон не включает в себя 0, т.е. разница между медианами положительная и она статистически значима на уровне 5%, поэтому мы говорим, что ARPPU двух групп стат.значимо отлиаются"
   ]
  },
  {
   "cell_type": "markdown",
   "metadata": {},
   "source": [
    "# III. Share_pay_users"
   ]
  },
  {
   "cell_type": "markdown",
   "metadata": {},
   "source": [
    "При исследовании вопроса о доле платящих пользователях, мы имеем дело с категориальными переменными: человек либо платит, либо нет. Вторая категориальная величина - это принадлежность к группе. Для проверки гипотез о том, равны ли у двух категориальных величин распределения, используется Критерий Хи-квадрат. \n",
    "\n",
    "Есть всего два важных условия использования критерия:\n",
    "    \n",
    "    - Все наблюдения независимы;\n",
    "    - Количество наблюдений в каждой ячейке больше 5.\n",
    "Оба условия выполняются для наших выборок.\n",
    "\n",
    "В данном случае нас интересует вопрос однородности распределения платящих клиентов по группам (тестовой и контрольной). Ранее, при расчете метрик, мы увидели, что платящих пользователей в контролькой группе больше, чем в тестовой, необходимо статистически обосновать или опровергнуть это наблюдение.\n",
    "\n",
    "Гипотезы для Критерия Хи-квадрат (однородности Пирсона):\n",
    "    - H0: Распределение платящих пользователей в двух группах идентично\n",
    "    - H1: Распределение платящих пользователей в двух группах отличаются."
   ]
  },
  {
   "cell_type": "code",
   "execution_count": 33,
   "metadata": {},
   "outputs": [
    {
     "data": {
      "text/html": [
       "<div>\n",
       "<style scoped>\n",
       "    .dataframe tbody tr th:only-of-type {\n",
       "        vertical-align: middle;\n",
       "    }\n",
       "\n",
       "    .dataframe tbody tr th {\n",
       "        vertical-align: top;\n",
       "    }\n",
       "\n",
       "    .dataframe thead th {\n",
       "        text-align: right;\n",
       "    }\n",
       "</style>\n",
       "<table border=\"1\" class=\"dataframe\">\n",
       "  <thead>\n",
       "    <tr style=\"text-align: right;\">\n",
       "      <th></th>\n",
       "      <th>user_id</th>\n",
       "      <th>revenue</th>\n",
       "      <th>testgroup</th>\n",
       "    </tr>\n",
       "  </thead>\n",
       "  <tbody>\n",
       "    <tr>\n",
       "      <th>404768</th>\n",
       "      <td>404769</td>\n",
       "      <td>0</td>\n",
       "      <td>control</td>\n",
       "    </tr>\n",
       "    <tr>\n",
       "      <th>404769</th>\n",
       "      <td>404770</td>\n",
       "      <td>0</td>\n",
       "      <td>test</td>\n",
       "    </tr>\n",
       "  </tbody>\n",
       "</table>\n",
       "</div>"
      ],
      "text/plain": [
       "        user_id  revenue testgroup\n",
       "404768   404769        0   control\n",
       "404769   404770        0      test"
      ]
     },
     "execution_count": 33,
     "metadata": {},
     "output_type": "execute_result"
    }
   ],
   "source": [
    "df.tail(2)"
   ]
  },
  {
   "cell_type": "markdown",
   "metadata": {},
   "source": [
    "В основном датафрейме создадим колонку, в которой, для каждого клиента, зафиксируем, является он платящим ('pay'), или нет ('no_pay')"
   ]
  },
  {
   "cell_type": "code",
   "execution_count": 34,
   "metadata": {},
   "outputs": [
    {
     "data": {
      "text/html": [
       "<div>\n",
       "<style scoped>\n",
       "    .dataframe tbody tr th:only-of-type {\n",
       "        vertical-align: middle;\n",
       "    }\n",
       "\n",
       "    .dataframe tbody tr th {\n",
       "        vertical-align: top;\n",
       "    }\n",
       "\n",
       "    .dataframe thead th {\n",
       "        text-align: right;\n",
       "    }\n",
       "</style>\n",
       "<table border=\"1\" class=\"dataframe\">\n",
       "  <thead>\n",
       "    <tr style=\"text-align: right;\">\n",
       "      <th></th>\n",
       "      <th>user_id</th>\n",
       "      <th>revenue</th>\n",
       "      <th>testgroup</th>\n",
       "      <th>solvency</th>\n",
       "    </tr>\n",
       "  </thead>\n",
       "  <tbody>\n",
       "    <tr>\n",
       "      <th>404767</th>\n",
       "      <td>404768</td>\n",
       "      <td>231</td>\n",
       "      <td>control</td>\n",
       "      <td>pay</td>\n",
       "    </tr>\n",
       "    <tr>\n",
       "      <th>404768</th>\n",
       "      <td>404769</td>\n",
       "      <td>0</td>\n",
       "      <td>control</td>\n",
       "      <td>no_pay</td>\n",
       "    </tr>\n",
       "    <tr>\n",
       "      <th>404769</th>\n",
       "      <td>404770</td>\n",
       "      <td>0</td>\n",
       "      <td>test</td>\n",
       "      <td>no_pay</td>\n",
       "    </tr>\n",
       "  </tbody>\n",
       "</table>\n",
       "</div>"
      ],
      "text/plain": [
       "        user_id  revenue testgroup solvency\n",
       "404767   404768      231   control      pay\n",
       "404768   404769        0   control   no_pay\n",
       "404769   404770        0      test   no_pay"
      ]
     },
     "execution_count": 34,
     "metadata": {},
     "output_type": "execute_result"
    }
   ],
   "source": [
    "df['solvency'] = np.where((df.revenue > 0), 'pay', 'no_pay')\n",
    "df.tail(3)"
   ]
  },
  {
   "cell_type": "code",
   "execution_count": 35,
   "metadata": {},
   "outputs": [
    {
     "name": "stdout",
     "output_type": "stream",
     "text": [
      "testgroup  control    test\n",
      "solvency                  \n",
      "no_pay      200175  200862\n",
      "pay           1928    1805\n"
     ]
    }
   ],
   "source": [
    "# Создание таблицы сопряженности\n",
    "\n",
    "contingency_table = pd.crosstab(df['solvency'], df['testgroup'])\n",
    "print(contingency_table)"
   ]
  },
  {
   "cell_type": "code",
   "execution_count": 36,
   "metadata": {},
   "outputs": [
    {
     "name": "stdout",
     "output_type": "stream",
     "text": [
      "χ²: 4.374729521260405, p-значение: 0.03647561892312613\n"
     ]
    }
   ],
   "source": [
    "# Расчет критерия Пирсона\n",
    "\n",
    "chi2, p, dof, expected = stats.chi2_contingency(contingency_table)\n",
    "print(f\"χ²: {chi2}, p-значение: {p}\")"
   ]
  },
  {
   "cell_type": "markdown",
   "metadata": {},
   "source": [
    "Значение p_value ниже 0.05, значит мы отвергаем нулевую гипотезу об однородности распределения. И принимаем вывод, что для контрольной и тестовой групп имеются различия в распределении количества платящих пользователей."
   ]
  },
  {
   "cell_type": "markdown",
   "metadata": {},
   "source": [
    "# 5. ВЫВОД:"
   ]
  },
  {
   "cell_type": "markdown",
   "metadata": {},
   "source": [
    " - В результате проведенного анализа мы не смогли отклонить нулевую гипотезу о том, что ARPU в двух группах равны. Следовательно, мы считаем, что различные наборы акционных предложений в целом не повлияли на лояльность клиентов какой-либо из групп больше, чем на вторую.\n",
    " \n",
    " - В то же время, на основании проведенного анализа ARPPU с помощью метода bootstrap удалось отклонить нулевую гипотезу о том, что различия в ARPPU в двух группах не являются статистически значимыми. Из чего можно было бы сделать вывод, что различные наборы акционных предложений повлияли стат. значимо на поведение платящего пользователя (ARPPU в тестовой группе больше, чем в контрольной).\n",
    " - При этом, с помощью критерия хи-квадрат удалось  выяснить, что платящих пользователей в контрольной группе больше, чем в тестовой. Получается, что ARPPU больше в тестовой группе не за счет количества платящих клиентов, которых привлекло предложение, а за счет сумм, которые некоторые клиенты готовы платить.\n",
    " - С точки зрения бизнеса, нам интереснее, чтобы как можно больше пользователей платили, и суммы их чеков были выше. Но новые наборы акционных предложений не принесли совокупного эффекта в одной из групп. ARPPU вырос за счет меньшей конверсии пользователя в платящего клиента и большего количества крупных сумм оплат, а вырука контрольной группы складывается из 123 оптовых клиентов и множества небольших сумм, но при этом, большей конверсии в платящего пользователя. \n",
    " - Если выбирать из двух, то нужно посмотреть на абсолютные показатели, и получается, что совокупный доход в тестовой группе больше при меньшей себестоимости в части расходов на обслуживание платящих клиентов, т.к. их меньше. \n",
    "Поэтому, если говорить о выборе набора акционных предложений, то мы должны выбрать тот набор, который был применен к тестовой группе (b).\n",
    "\n",
    " - Однако, в ходе анализа данных нам удалось заметить, что в двух группах разные, непересекающиеся сегменты пользователей по величине оплат (в контрольной группе есть 123 оптовых клиента, которых нет в тестовой, эти клиенты делают 89% выручки контрольной группы), и, вероятно, что дизайн эксперимента нарушен и сплитование проведено некорректно.\n",
    " При таком положении вещей стоит засомневаться в корректности проведенного эксперимента и стоит пересобрать группы и повторного запустить эксперимент."
   ]
  }
 ],
 "metadata": {
  "kernelspec": {
   "display_name": "Python 3",
   "language": "python",
   "name": "python3"
  },
  "language_info": {
   "codemirror_mode": {
    "name": "ipython",
    "version": 3
   },
   "file_extension": ".py",
   "mimetype": "text/x-python",
   "name": "python",
   "nbconvert_exporter": "python",
   "pygments_lexer": "ipython3",
   "version": "3.7.3"
  }
 },
 "nbformat": 4,
 "nbformat_minor": 4
}
